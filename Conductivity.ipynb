{
 "cells": [
  {
   "cell_type": "code",
   "execution_count": 2,
   "metadata": {},
   "outputs": [
    {
     "name": "stdout",
     "output_type": "stream",
     "text": [
      "Sample 1: [9.206 5.806 9.795 7.452], 0.014637\n",
      "Sample 2: [9.123 5.265 8.88  5.74 ], 0.01178\n",
      "Sample 3: [0.661 2.222 3.34  7.025], 2.3e-05\n",
      "Sample 4: [2.022 2.641 2.202 2.139], 3.2e-05\n",
      "Sample 5: [0.501 2.135 3.23  1.475], 8.6e-05\n",
      "Sample 6: [0.363 1.749 2.184 1.032], 1.7e-05\n",
      "Sample 7: [5.306 5.682 0.108 5.365], 0.00157\n",
      "Sample 8: [0.608 8.135 1.662 2.234], 0.004223\n",
      "Sample 9: [5.049 3.675 4.728 4.297], 0.000879\n",
      "Sample 10: [7.569 8.265 5.136 5.122], 0.006847\n",
      "Sample 11: [0.16  6.248 5.637 4.814], 0.001882\n",
      "Sample 12: [3.649 6.6   2.837 8.771], 0.001705\n",
      "[(1e-05, 10000.0), (1e-05, 100000.0), (0.0001, 10000.0), (0.0001, 100000.0), (0.001, 10000.0), (0.001, 100000.0), (0.01, 10000.0), (0.01, 100000.0), (0.1, 10000.0), (0.1, 100000.0), (1.0, 10000.0), (1.0, 100000.0), (10.0, 10000.0), (10.0, 100000.0), (100.0, 10000.0), (100.0, 100000.0), (1000.0, 10000.0), (1000.0, 100000.0)] [(1e-05, 100000.0), (0.0001, 100000.0), (0.001, 100000.0), (0.01, 100000.0), (0.1, 100000.0), (1.0, 100000.0), (10.0, 100000.0), (100.0, 100000.0), (1000.0, 100000.0)]\n",
      "{'kernel': Matern(length_scale=1e+04, nu=1.5) * DotProduct(sigma_0=1e+04), 'kernel__k1__length_scale_bounds': (100.0, 10000.0), 'kernel__k2__sigma_0_bounds': (1.0, 100000.0)}\n",
      "-5.915878171737609e-06\n"
     ]
    },
    {
     "name": "stderr",
     "output_type": "stream",
     "text": [
      "d:\\Coding\\Python\\Python311\\Lib\\site-packages\\sklearn\\gaussian_process\\kernels.py:419: ConvergenceWarning: The optimal value found for dimension 0 of parameter k2__sigma_0 is close to the specified lower bound 1.0. Decreasing the bound and calling fit again may find a better value.\n",
      "  warnings.warn(\n"
     ]
    }
   ],
   "source": [
    "import numpy as np\n",
    "from scipy.optimize import minimize, rosen\n",
    "from sklearn.gaussian_process import GaussianProcessRegressor\n",
    "from sklearn.model_selection import GridSearchCV\n",
    "#from sklearn.gaussian_process.kernels import ConstantKernel, WhiteKernel, RBF, Matern, RationalQuadratic, ExpSineSquared, DotProduct, Sum, Product\n",
    "from sklearn.gaussian_process.kernels import ConstantKernel as C, WhiteKernel as W, RBF, Matern, RationalQuadratic as RQ, ExpSineSquared as ESS, DotProduct as DP, Sum, Product\n",
    "import warnings\n",
    "#warnings.filterwarnings(\"ignore\")\n",
    "\n",
    "#===========================================================================================================#\n",
    "#Obtaining initial values\n",
    "\n",
    "np.random.seed(10003)\n",
    "samples = 12\n",
    "concentrations = 4\n",
    "X = np.random.random(samples*concentrations).reshape(samples, concentrations)*10\n",
    "y = rosen(X.T) * 1e-8\n",
    "\n",
    "for i in range(len(y)):\n",
    "    print(f'Sample {i+1}: {X[i].round(3)}, {y[i].round(6)}')\n",
    "\n",
    "\n",
    "#===========================================================================================================#\n",
    "#Parameters to Test\n",
    "\n",
    "def make_bounds(lower, upper):\n",
    "    bounds = []\n",
    "    for low in lower:\n",
    "        for up in upper:\n",
    "                bounds.append((low, up))\n",
    "    return bounds\n",
    "\n",
    "all_kernels = []\n",
    "\n",
    "kernel = [C(), W(), RBF(), Matern(), RQ(), ESS(), DP()]\n",
    "operation = [Sum, Product]\n",
    "\n",
    "upper_bound1 = [1e4, 1e5]\n",
    "upper_bound2 = [1e4, 1e5]\n",
    "lower_bound1 = [1e-5, 1e-4, 1e-3, 1e-2, 1e-1, 1e0, 1e1, 1e2, 1e3]\n",
    "lower_bound2 = [1e-5, 1e-4, 1e-3, 1e-2, 1e-1, 1e0, 1e1, 1e2, 1e3]\n",
    "\n",
    "            \n",
    "kern1_bounds = make_bounds(lower_bound1, upper_bound1)\n",
    "kern2_bounds = make_bounds(lower_bound2, upper_bound2)\n",
    "\n",
    "print(kern1_bounds, kern2_bounds)\n",
    "\n",
    "#===========================================================================================================#\n",
    "#Cross fold testing\n",
    "\n",
    "model = GaussianProcessRegressor(normalize_y=True)\n",
    "\n",
    "param_grid = [\n",
    "    {'kernel': [Product(Matern(length_scale=1e+04, nu=1.5), DP(sigma_0=1e+04))],\n",
    "     'kernel__k1__length_scale_bounds': kern1_bounds,\n",
    "     'kernel__k2__sigma_0_bounds': kern2_bounds}\n",
    "]\n",
    "\n",
    "param_search = GridSearchCV(model, param_grid=param_grid, scoring='neg_mean_squared_error', cv=11, n_jobs=-1)\n",
    "\n",
    "param_search.fit(X, -y)\n",
    "\n",
    "best_parameters = param_search.best_params_\n",
    "best_score = param_search.best_score_\n",
    "\n",
    "print(best_parameters)\n",
    "print(best_score)"
   ]
  },
  {
   "cell_type": "markdown",
   "metadata": {},
   "source": [
    "{'kernel': Matern(length_scale=1e+04, nu=1.5) * DotProduct(sigma_0=1e+04), 'kernel__k1__length_scale': 10000.0, 'kernel__k1__nu': 1.5, 'kernel__k2__sigma_0': 10000.0}\n",
    "-5.981584114117213e-06\n",
    "\n",
    "\n",
    "{'kernel': 1**2 * RBF(length_scale=1) + DotProduct(sigma_0=1)}\n",
    "-5.534414196866314e-06\n",
    "\n",
    "{'kernel': Matern(length_scale=1e+04, nu=1.5) * DotProduct(sigma_0=1e+04), 'kernel__k1__length_scale_bounds': (100.0, 10000.0), 'kernel__k2__sigma_0_bounds': (1.0, 100000.0)}\n",
    "-5.915878171737609e-06\n",
    "\n",
    "{'kernel': 31.6**2 * RBF(length_scale=10) + DotProduct(sigma_0=1e+04), 'kernel__k1__constant_value_bounds': (10.0, 10000.0), 'kernel__k2__k1__length_scale_bounds': (10.0, 100.0), 'kernel__k2__k2__sigma_0_bounds': (0.001, 10000.0)}\n",
    "        'kernel': [Product(C(31.6**2), Sum(RBF(length_scale=10), DP(sigma_0=1e+04)))],\n",
    "        'kernel__k1__constant_value_bounds': kern1_bounds,\n",
    "        'kernel__k2__k1__length_scale_bounds': kern2_bounds,\n",
    "        'kernel__k2__k2__sigma_0_bounds': kern3_bounds\n",
    "kernel = 31.6**2 * RBF(length_scale=10, constant_value_bounds=(10.0, 10000.0)) + DotProduct(sigma_0=1e+04, sigma_0_bounds=(0.001, 10000.0))\n",
    "-5.152893145395277e-06"
   ]
  }
 ],
 "metadata": {
  "kernelspec": {
   "display_name": "Python 3",
   "language": "python",
   "name": "python3"
  },
  "language_info": {
   "codemirror_mode": {
    "name": "ipython",
    "version": 3
   },
   "file_extension": ".py",
   "mimetype": "text/x-python",
   "name": "python",
   "nbconvert_exporter": "python",
   "pygments_lexer": "ipython3",
   "version": "3.11.4"
  },
  "orig_nbformat": 4
 },
 "nbformat": 4,
 "nbformat_minor": 2
}
